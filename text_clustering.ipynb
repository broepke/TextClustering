{
 "cells": [
  {
   "cell_type": "code",
   "execution_count": 1,
   "metadata": {},
   "outputs": [],
   "source": [
    "import pandas as pd\n",
    "import re\n",
    "import string\n",
    "\n",
    "import nltk\n",
    "import spacy\n",
    "\n",
    "from sklearn.feature_extraction.text import TfidfVectorizer\n",
    "from sklearn.cluster import KMeans\n",
    "from sklearn.metrics import silhouette_score\n",
    "\n",
    "import matplotlib.pyplot as plt\n",
    "import seaborn as sns\n",
    "%matplotlib inline"
   ]
  },
  {
   "cell_type": "code",
   "execution_count": 2,
   "metadata": {},
   "outputs": [],
   "source": [
    "df =  pd.read_csv('wine.csv')"
   ]
  },
  {
   "cell_type": "code",
   "execution_count": 3,
   "metadata": {},
   "outputs": [
    {
     "data": {
      "text/plain": [
       "(11258, 10)"
      ]
     },
     "execution_count": 3,
     "metadata": {},
     "output_type": "execute_result"
    }
   ],
   "source": [
    "df.shape"
   ]
  },
  {
   "cell_type": "code",
   "execution_count": 4,
   "metadata": {},
   "outputs": [],
   "source": [
    "df = df.dropna(subset=['description'])"
   ]
  },
  {
   "cell_type": "code",
   "execution_count": 5,
   "metadata": {},
   "outputs": [
    {
     "data": {
      "text/plain": [
       "(11258, 10)"
      ]
     },
     "execution_count": 5,
     "metadata": {},
     "output_type": "execute_result"
    }
   ],
   "source": [
    "df.shape"
   ]
  },
  {
   "cell_type": "markdown",
   "metadata": {},
   "source": [
    "## Text Cleaning"
   ]
  },
  {
   "cell_type": "code",
   "execution_count": 6,
   "metadata": {},
   "outputs": [],
   "source": [
    "# Get a list of varietals so we can use them as stop words\n",
    "varietals = ' '.join(df.variety.unique().tolist()).lower()\n",
    "varietals = re.sub('-', ' ', varietals)\n",
    "varietals = varietals.split()"
   ]
  },
  {
   "cell_type": "code",
   "execution_count": 7,
   "metadata": {},
   "outputs": [],
   "source": [
    "# Load spacy\n",
    "nlp = spacy.load('en_core_web_sm')\n",
    "\n",
    "def clean_string(text):\n",
    "\n",
    "    final_string = \"\"\n",
    "\n",
    "    # Make lower\n",
    "    text = text.lower()\n",
    "\n",
    "    # Remove line breaks\n",
    "    text = re.sub('\\n', '', text)\n",
    "\n",
    "    # Remove puncuation\n",
    "    translator = str.maketrans('', '', string.punctuation)\n",
    "    text = text.translate(translator)\n",
    "\n",
    "    # Lemmatize\n",
    "    text = nlp(text)\n",
    "    text = [y.lemma_ for y in text]\n",
    "    \n",
    "    # Convert to list\n",
    "    # text = text.split()\n",
    "    \n",
    "    # Remove stop words\n",
    "    useless_words = nltk.corpus.stopwords.words(\"english\")\n",
    "    useless_words = useless_words + varietals + ['drink', 'wine']\n",
    "\n",
    "    text_filtered = [word for word in text if not word in useless_words]\n",
    "\n",
    "    # Remove numbers\n",
    "    text_filtered = [re.sub('\\w*\\d\\w*', '', w) for w in text_filtered]\n",
    "\n",
    "\n",
    "    final_string = ' '.join(text_filtered)\n",
    "\n",
    "    return final_string"
   ]
  },
  {
   "cell_type": "code",
   "execution_count": 8,
   "metadata": {},
   "outputs": [],
   "source": [
    "# Next apply the clean_string function to the text\n",
    "df['description_clean'] = df['description'].apply(lambda x: clean_string(x))"
   ]
  },
  {
   "cell_type": "code",
   "execution_count": 9,
   "metadata": {},
   "outputs": [
    {
     "data": {
      "text/plain": [
       "\"Malbec, Merlot and Petit Verdot are included in this wine that's black-purple in color, with a thick density to its dusty black fruit. Cedar, tar and tobacco weave in between blackberry and currant, finishing in a powerful grip of tannin.\""
      ]
     },
     "execution_count": 9,
     "metadata": {},
     "output_type": "execute_result"
    }
   ],
   "source": [
    "df['description'][0]"
   ]
  },
  {
   "cell_type": "code",
   "execution_count": 10,
   "metadata": {},
   "outputs": [
    {
     "data": {
      "text/plain": [
       "'include blackpurple color thick density dusty fruit cedar tar tobacco weave blackberry currant finishing powerful grip tannin'"
      ]
     },
     "execution_count": 10,
     "metadata": {},
     "output_type": "execute_result"
    }
   ],
   "source": [
    "df['description_clean'][0]"
   ]
  },
  {
   "cell_type": "markdown",
   "metadata": {},
   "source": [
    "## Determine the Optimal Number of Clusters\n",
    "\n",
    "To select the best number of clusters, we'll use the Elbow method.  Per [Wikipedia](https://en.wikipedia.org/wiki/Elbow_method_(clustering))\n",
    "\n",
    "> *In cluster analysis, the elbow method is a heuristic used in determining the number of clusters in a data set. The method consists of plotting the explained variation as a function of the number of clusters, and picking the elbow of the curve as the number of clusters to use. The same method can be used to choose the number of parameters in other data-driven models, such as the number of principal components to describe a data set.*\n",
    "\n",
    "[Tutorial: How to determine the optimal number of clusters for k-means clustering](https://blog.cambridgespark.com/how-to-determine-the-optimal-number-of-clusters-for-k-means-clustering-14f27070048f)"
   ]
  },
  {
   "cell_type": "code",
   "execution_count": 11,
   "metadata": {},
   "outputs": [],
   "source": [
    "vectorizer = TfidfVectorizer()\n",
    "X = vectorizer.fit_transform(df['description_clean'])"
   ]
  },
  {
   "cell_type": "code",
   "execution_count": 51,
   "metadata": {},
   "outputs": [],
   "source": [
    "Sum_of_squared_distances = []\n",
    "K = range(1,10)\n",
    "for k in K:\n",
    "    km = KMeans(init=\"k-means++\", n_clusters=k)\n",
    "    km = km.fit(X)\n",
    "    Sum_of_squared_distances.append(km.inertia_)"
   ]
  },
  {
   "cell_type": "code",
   "execution_count": 74,
   "metadata": {},
   "outputs": [
    {
     "data": {
      "image/png": "[encoded data removed]",
      "text/plain": [
       "<Figure size 504x360 with 1 Axes>"
      ]
     },
     "metadata": {
      "needs_background": "light"
     },
     "output_type": "display_data"
    }
   ],
   "source": [
    "plt.figure(figsize=(7,5))\n",
    "ax = sns.lineplot(x=K, y=Sum_of_squared_distances)\n",
    "#732F2F\n",
    "ax.lines[0].set_linestyle(\"--\")\n",
    "ax.lines[0].set_color(\"#F25D27\")\n",
    "\n",
    "# Add a vertical line to show the optimum number of clusters\n",
    "plt.axvline(2, color='#1A2226', linestyle=':')\n",
    "\n",
    "plt.xlabel('k')\n",
    "plt.ylabel('Sum of Squared Distances')\n",
    "plt.title('Elbow Method For Optimal k')\n",
    "\n",
    "plt.tight_layout()\n",
    "plt.savefig('textclustering_elbow.png', dpi=300)\n",
    "plt.show();"
   ]
  },
  {
   "cell_type": "markdown",
   "metadata": {},
   "source": [
    "## Silhouette Score\n",
    "\n",
    "The Silhouette Coefficient is calculated using the mean intra-cluster distance (`a`) and the mean nearest-cluster distance (`b`) for each sample. The Silhouette Coefficient for a sample is `(b - a) / max(a, b)`. To clarify, b is the distance between a sample and the nearest cluster that the sample is not a part of. Note that Silhouette Coefficient is only defined if number of labels is `2 <= n_labels <= n_samples - 1`.\n",
    "\n",
    "The best value is `1`, and the worst value is `-1`. Values near `0` indicate overlapping clusters. Negative values generally indicate that a sample has been assigned to the wrong cluster, as a different cluster is more similar.\n",
    "\n",
    "https://scikit-learn.org/stable/modules/generated/sklearn.metrics.silhouette_score.html?highlight=silhouette_score#sklearn.metrics.silhouette_score"
   ]
  },
  {
   "cell_type": "code",
   "execution_count": 57,
   "metadata": {},
   "outputs": [
    {
     "name": "stdout",
     "output_type": "stream",
     "text": [
      "For n_clusters = 2 The average silhouette_score is: 0.00821919113279018\n",
      "For n_clusters = 3 The average silhouette_score is: 0.006522933295313797\n",
      "For n_clusters = 4 The average silhouette_score is: 0.006237960319271207\n",
      "For n_clusters = 5 The average silhouette_score is: 0.006266850309331783\n",
      "For n_clusters = 6 The average silhouette_score is: 0.006381665959703946\n",
      "For n_clusters = 7 The average silhouette_score is: 0.005549433908077499\n",
      "For n_clusters = 8 The average silhouette_score is: 0.005962146586290015\n",
      "For n_clusters = 9 The average silhouette_score is: 0.00632540099660495\n"
     ]
    }
   ],
   "source": [
    "def get_silhouette_score(X, k):\n",
    "    for n_clusters in range(2, k):\n",
    "        clusterer = KMeans(init=\"k-means++\", n_clusters=n_clusters, random_state=42)\n",
    "        y = clusterer.fit_predict(X)\n",
    "\n",
    "        message = \"For n_clusters = {} The average silhouette_score is: {}\"\n",
    "        print(message.format(n_clusters, silhouette_score(X, y)))\n",
    "        \n",
    "get_silhouette_score(X, 10)"
   ]
  },
  {
   "cell_type": "markdown",
   "metadata": {},
   "source": [
    "## Clustering with k-Means"
   ]
  },
  {
   "cell_type": "code",
   "execution_count": 58,
   "metadata": {},
   "outputs": [
    {
     "data": {
      "text/plain": [
       "KMeans(max_iter=25, n_clusters=2, n_init=1)"
      ]
     },
     "execution_count": 58,
     "metadata": {},
     "output_type": "execute_result"
    }
   ],
   "source": [
    "# Set the number of clusters\n",
    "k = 2\n",
    "# Vectorize the text\n",
    "vectorizer = TfidfVectorizer()\n",
    "X = vectorizer.fit_transform(df['description_clean'])\n",
    "# Fit our Model\n",
    "model = KMeans(init=\"k-means++\", n_clusters=k, max_iter=25, n_init=1)\n",
    "model.fit(X)"
   ]
  },
  {
   "cell_type": "code",
   "execution_count": 59,
   "metadata": {},
   "outputs": [],
   "source": [
    "# Get the cluster labels\n",
    "clust_labels = model.predict(X)\n",
    "cent = model.cluster_centers_\n",
    "\n",
    "kmeans_labels = pd.DataFrame(clust_labels)\n",
    "df.insert((df.shape[1]),'clusters',kmeans_labels)"
   ]
  },
  {
   "cell_type": "code",
   "execution_count": 60,
   "metadata": {},
   "outputs": [
    {
     "data": {
      "text/html": [
       "<div>\n",
       "<style scoped>\n",
       "    .dataframe tbody tr th:only-of-type {\n",
       "        vertical-align: middle;\n",
       "    }\n",
       "\n",
       "    .dataframe tbody tr th {\n",
       "        vertical-align: top;\n",
       "    }\n",
       "\n",
       "    .dataframe thead th {\n",
       "        text-align: right;\n",
       "    }\n",
       "</style>\n",
       "<table border=\"1\" class=\"dataframe\">\n",
       "  <thead>\n",
       "    <tr style=\"text-align: right;\">\n",
       "      <th></th>\n",
       "      <th>country</th>\n",
       "      <th>description</th>\n",
       "      <th>designation</th>\n",
       "      <th>points</th>\n",
       "      <th>price</th>\n",
       "      <th>province</th>\n",
       "      <th>region_1</th>\n",
       "      <th>region_2</th>\n",
       "      <th>variety</th>\n",
       "      <th>winery</th>\n",
       "      <th>description_clean</th>\n",
       "      <th>clusters</th>\n",
       "    </tr>\n",
       "  </thead>\n",
       "  <tbody>\n",
       "    <tr>\n",
       "      <th>2131</th>\n",
       "      <td>US</td>\n",
       "      <td>If you like your white wines with a white suga...</td>\n",
       "      <td>Estate</td>\n",
       "      <td>82</td>\n",
       "      <td>16.0</td>\n",
       "      <td>California</td>\n",
       "      <td>Dry Creek Valley</td>\n",
       "      <td>Sonoma</td>\n",
       "      <td>Sauvignon Blanc</td>\n",
       "      <td>Mill Creek</td>\n",
       "      <td>like sugary finish taste like apricot pineappl...</td>\n",
       "      <td>0</td>\n",
       "    </tr>\n",
       "    <tr>\n",
       "      <th>641</th>\n",
       "      <td>US</td>\n",
       "      <td>Feels harsh and tart in the mouth, with sharp ...</td>\n",
       "      <td>Crazy Creek Vineyard Estate Bottled</td>\n",
       "      <td>82</td>\n",
       "      <td>40.0</td>\n",
       "      <td>California</td>\n",
       "      <td>Alexander Valley</td>\n",
       "      <td>Sonoma</td>\n",
       "      <td>Cabernet Sauvignon</td>\n",
       "      <td>DeLorimier</td>\n",
       "      <td>feel harsh tart mouth sharp acidity give oakyc...</td>\n",
       "      <td>1</td>\n",
       "    </tr>\n",
       "    <tr>\n",
       "      <th>1964</th>\n",
       "      <td>US</td>\n",
       "      <td>Hot in alcohol and seemingly sweet in black cu...</td>\n",
       "      <td>Estate Grown</td>\n",
       "      <td>83</td>\n",
       "      <td>30.0</td>\n",
       "      <td>California</td>\n",
       "      <td>Dry Creek Valley</td>\n",
       "      <td>Sonoma</td>\n",
       "      <td>Malbec</td>\n",
       "      <td>Mounts</td>\n",
       "      <td>hot alcohol seemingly sweet currant chocolate ...</td>\n",
       "      <td>1</td>\n",
       "    </tr>\n",
       "    <tr>\n",
       "      <th>4684</th>\n",
       "      <td>US</td>\n",
       "      <td>Made without oak, although the wine has a tart...</td>\n",
       "      <td>Unoaked</td>\n",
       "      <td>86</td>\n",
       "      <td>18.0</td>\n",
       "      <td>California</td>\n",
       "      <td>Russian River Valley</td>\n",
       "      <td>Sonoma</td>\n",
       "      <td>Chardonnay</td>\n",
       "      <td>Sebastiani</td>\n",
       "      <td>make without oak although tart leanness would ...</td>\n",
       "      <td>0</td>\n",
       "    </tr>\n",
       "    <tr>\n",
       "      <th>2512</th>\n",
       "      <td>US</td>\n",
       "      <td>This is an enormously fruity Zinfandel that of...</td>\n",
       "      <td>Bradford Mountain Vineyard</td>\n",
       "      <td>91</td>\n",
       "      <td>32.0</td>\n",
       "      <td>California</td>\n",
       "      <td>Dry Creek Valley</td>\n",
       "      <td>Sonoma</td>\n",
       "      <td>Zinfandel</td>\n",
       "      <td>Peterson</td>\n",
       "      <td>enormously fruity offer flood flavor make inst...</td>\n",
       "      <td>1</td>\n",
       "    </tr>\n",
       "  </tbody>\n",
       "</table>\n",
       "</div>"
      ],
      "text/plain": [
       "     country                                        description  \\\n",
       "2131      US  If you like your white wines with a white suga...   \n",
       "641       US  Feels harsh and tart in the mouth, with sharp ...   \n",
       "1964      US  Hot in alcohol and seemingly sweet in black cu...   \n",
       "4684      US  Made without oak, although the wine has a tart...   \n",
       "2512      US  This is an enormously fruity Zinfandel that of...   \n",
       "\n",
       "                              designation  points  price    province  \\\n",
       "2131                               Estate      82   16.0  California   \n",
       "641   Crazy Creek Vineyard Estate Bottled      82   40.0  California   \n",
       "1964                         Estate Grown      83   30.0  California   \n",
       "4684                              Unoaked      86   18.0  California   \n",
       "2512           Bradford Mountain Vineyard      91   32.0  California   \n",
       "\n",
       "                  region_1 region_2             variety      winery  \\\n",
       "2131      Dry Creek Valley   Sonoma     Sauvignon Blanc  Mill Creek   \n",
       "641       Alexander Valley   Sonoma  Cabernet Sauvignon  DeLorimier   \n",
       "1964      Dry Creek Valley   Sonoma              Malbec      Mounts   \n",
       "4684  Russian River Valley   Sonoma          Chardonnay  Sebastiani   \n",
       "2512      Dry Creek Valley   Sonoma           Zinfandel    Peterson   \n",
       "\n",
       "                                      description_clean  clusters  \n",
       "2131  like sugary finish taste like apricot pineappl...         0  \n",
       "641   feel harsh tart mouth sharp acidity give oakyc...         1  \n",
       "1964  hot alcohol seemingly sweet currant chocolate ...         1  \n",
       "4684  make without oak although tart leanness would ...         0  \n",
       "2512  enormously fruity offer flood flavor make inst...         1  "
      ]
     },
     "execution_count": 60,
     "metadata": {},
     "output_type": "execute_result"
    }
   ],
   "source": [
    "df.sample(5, random_state=3)"
   ]
  },
  {
   "cell_type": "code",
   "execution_count": 61,
   "metadata": {},
   "outputs": [
    {
     "data": {
      "text/html": [
       "<div>\n",
       "<style scoped>\n",
       "    .dataframe tbody tr th:only-of-type {\n",
       "        vertical-align: middle;\n",
       "    }\n",
       "\n",
       "    .dataframe tbody tr th {\n",
       "        vertical-align: top;\n",
       "    }\n",
       "\n",
       "    .dataframe thead th {\n",
       "        text-align: right;\n",
       "    }\n",
       "</style>\n",
       "<table border=\"1\" class=\"dataframe\">\n",
       "  <thead>\n",
       "    <tr style=\"text-align: right;\">\n",
       "      <th></th>\n",
       "      <th>Cluster 0</th>\n",
       "      <th>Cluster 1</th>\n",
       "    </tr>\n",
       "  </thead>\n",
       "  <tbody>\n",
       "    <tr>\n",
       "      <th>0</th>\n",
       "      <td>pineapple</td>\n",
       "      <td>cherry</td>\n",
       "    </tr>\n",
       "    <tr>\n",
       "      <th>1</th>\n",
       "      <td>flavor</td>\n",
       "      <td>flavor</td>\n",
       "    </tr>\n",
       "    <tr>\n",
       "      <th>2</th>\n",
       "      <td>acidity</td>\n",
       "      <td>dry</td>\n",
       "    </tr>\n",
       "    <tr>\n",
       "      <th>3</th>\n",
       "      <td>vanilla</td>\n",
       "      <td>blackberry</td>\n",
       "    </tr>\n",
       "    <tr>\n",
       "      <th>4</th>\n",
       "      <td>fruit</td>\n",
       "      <td>tannin</td>\n",
       "    </tr>\n",
       "    <tr>\n",
       "      <th>5</th>\n",
       "      <td>oak</td>\n",
       "      <td>cola</td>\n",
       "    </tr>\n",
       "    <tr>\n",
       "      <th>6</th>\n",
       "      <td>crisp</td>\n",
       "      <td>raspberry</td>\n",
       "    </tr>\n",
       "    <tr>\n",
       "      <th>7</th>\n",
       "      <td>pear</td>\n",
       "      <td>currant</td>\n",
       "    </tr>\n",
       "    <tr>\n",
       "      <th>8</th>\n",
       "      <td>apple</td>\n",
       "      <td>good</td>\n",
       "    </tr>\n",
       "    <tr>\n",
       "      <th>9</th>\n",
       "      <td>peach</td>\n",
       "      <td>rich</td>\n",
       "    </tr>\n",
       "    <tr>\n",
       "      <th>10</th>\n",
       "      <td>lime</td>\n",
       "      <td>soft</td>\n",
       "    </tr>\n",
       "    <tr>\n",
       "      <th>11</th>\n",
       "      <td>butter</td>\n",
       "      <td>spice</td>\n",
       "    </tr>\n",
       "    <tr>\n",
       "      <th>12</th>\n",
       "      <td>toast</td>\n",
       "      <td>show</td>\n",
       "    </tr>\n",
       "    <tr>\n",
       "      <th>13</th>\n",
       "      <td>sweet</td>\n",
       "      <td>oak</td>\n",
       "    </tr>\n",
       "    <tr>\n",
       "      <th>14</th>\n",
       "      <td>lemon</td>\n",
       "      <td>sweet</td>\n",
       "    </tr>\n",
       "  </tbody>\n",
       "</table>\n",
       "</div>"
      ],
      "text/plain": [
       "    Cluster 0   Cluster 1\n",
       "0   pineapple      cherry\n",
       "1      flavor      flavor\n",
       "2     acidity         dry\n",
       "3     vanilla  blackberry\n",
       "4       fruit      tannin\n",
       "5         oak        cola\n",
       "6       crisp   raspberry\n",
       "7        pear     currant\n",
       "8       apple        good\n",
       "9       peach        rich\n",
       "10       lime        soft\n",
       "11     butter       spice\n",
       "12      toast        show\n",
       "13      sweet         oak\n",
       "14      lemon       sweet"
      ]
     },
     "execution_count": 61,
     "metadata": {},
     "output_type": "execute_result"
    }
   ],
   "source": [
    "order_centroids = model.cluster_centers_.argsort()[:, ::-1]\n",
    "terms = vectorizer.get_feature_names_out()\n",
    "\n",
    "results_dict = {}\n",
    "\n",
    "for i in range(k):\n",
    "    terms_list = []\n",
    "    \n",
    "    for ind in order_centroids[i, :15]:  \n",
    "        terms_list.append(terms[ind])\n",
    "    \n",
    "    results_dict[f'Cluster {i}'] = terms_list\n",
    "    \n",
    "df_clusters = pd.DataFrame.from_dict(results_dict)\n",
    "df_clusters"
   ]
  },
  {
   "cell_type": "code",
   "execution_count": 62,
   "metadata": {},
   "outputs": [
    {
     "name": "stdout",
     "output_type": "stream",
     "text": [
      "[1 0 0 1]\n"
     ]
    }
   ],
   "source": [
    "new_docs = ['Rich deep color of oak and chocolate.',\n",
    "            'Light and crisp with a hint of vanilla.',\n",
    "            'Hints of citrus and melon.',\n",
    "            'Dark raspberry and black cherry flavors.']\n",
    "\n",
    "pred = model.predict(vectorizer.transform(new_docs))\n",
    "print(pred)"
   ]
  },
  {
   "cell_type": "code",
   "execution_count": null,
   "metadata": {},
   "outputs": [],
   "source": []
  }
 ],
 "metadata": {
  "interpreter": {
   "hash": "5629da87f0f0738fb6d7f5b56890b7158ed7c3cd6e2056d12c1193abac81cb87"
  },
  "kernelspec": {
   "display_name": "Python 3.9.7 64-bit ('NLP': conda)",
   "language": "python",
   "name": "python3"
  },
  "language_info": {
   "codemirror_mode": {
    "name": "ipython",
    "version": 3
   },
   "file_extension": ".py",
   "mimetype": "text/x-python",
   "name": "python",
   "nbconvert_exporter": "python",
   "pygments_lexer": "ipython3",
   "version": "3.9.7"
  },
  "orig_nbformat": 4
 },
 "nbformat": 4,
 "nbformat_minor": 2
}
